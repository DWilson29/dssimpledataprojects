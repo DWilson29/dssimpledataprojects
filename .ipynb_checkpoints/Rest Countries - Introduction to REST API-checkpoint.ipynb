{
 "cells": [
  {
   "cell_type": "markdown",
   "id": "bd1f44e1",
   "metadata": {},
   "source": [
    "# Rest Countries Analysis - Using a RESTful API to access and do analysis on information regarding countries\n",
    "I've heard a lot about how useful RESTful API's are. While I was taught about using API's in school, I'm not familiar with REST. This Juypter notebook will cover what REST is, why it's useful, and then use an example RESTful API in Restful Countries to do some simple analysis on countries.\n",
    "## What is a RESTful API?\n",
    "To understand RESTful API's, we need to know what an API is. API stands for \"Application Programming Interface\", and is a way for access and use data from someone else's server. Think of an API like a letter you send to someone, requesting a package. The letter has certain conventions to ensure it gets delivered to the right place, that you request the right thing, and that they know where to send it to. APIs allow us to in a simple manner access information, and as such are useful in web, mobile and cloud environments.\n",
    "\n",
    "A RESTful API is one that holds to REST standards. REST stands for Representational State Transfer. In practice, this means that for an API to be RESTful, it must hold to certain principles. The goals of the principles is to **transfer** a **representation** the **state** of the server to the client simply. The basic principles of RESTful API's, as laid out by [Roy Fielding in his dissertation from 2000](https://www.ics.uci.edu/~fielding/pubs/dissertation/rest_arch_style.htm) are:\n",
    "\n",
    "1. Seperation of Concerns between Client and Server. Seperating UI from Data storage allows us to scale the system across various platforms and devices.\n",
    "2. Stateless. The Server does not save information on the Client as a \"state\".\n",
    "3. Caching. The Client shall be able to cache information from the server to reduce server load.\n",
    "4. Uniform Interface. A request for the same resource shall be the same for everyone.\n",
    "5. Layering. The system is layered hierarchically \n",
    "6. Code On-Demand. When code must be run by the server, it is done only when it has too.\n",
    "\n",
    "## Why are RESTful API's useful?\n",
    "RESTful API's are useful because they allow consistent requests to be sent to a server efficiently. They are the easiest way to access server-side resources. Managing API requests across web, mobile and cloud computing environments means that requests must be simple and quick."
   ]
  },
  {
   "cell_type": "code",
   "execution_count": null,
   "id": "5e96ed58",
   "metadata": {},
   "outputs": [],
   "source": []
  }
 ],
 "metadata": {
  "kernelspec": {
   "display_name": "Python 3 (ipykernel)",
   "language": "python",
   "name": "python3"
  },
  "language_info": {
   "codemirror_mode": {
    "name": "ipython",
    "version": 3
   },
   "file_extension": ".py",
   "mimetype": "text/x-python",
   "name": "python",
   "nbconvert_exporter": "python",
   "pygments_lexer": "ipython3",
   "version": "3.10.9"
  }
 },
 "nbformat": 4,
 "nbformat_minor": 5
}
