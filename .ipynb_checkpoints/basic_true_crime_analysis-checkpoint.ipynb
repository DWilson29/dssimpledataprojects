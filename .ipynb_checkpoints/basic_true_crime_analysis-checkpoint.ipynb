{
 "cells": [
  {
   "cell_type": "code",
   "execution_count": 3,
   "id": "86c43779",
   "metadata": {},
   "outputs": [
    {
     "name": "stdout",
     "output_type": "stream",
     "text": [
      "MODULES LOADED\n"
     ]
    }
   ],
   "source": [
    "import numpy as np\n",
    "import pandas as pd\n",
    "\n",
    "print(\"MODULES LOADED\")"
   ]
  },
  {
   "cell_type": "code",
   "execution_count": 9,
   "id": "b3ea87e9",
   "metadata": {},
   "outputs": [
    {
     "name": "stdout",
     "output_type": "stream",
     "text": [
      "                                                   Title      Views\n",
      "0      A Killer Deadlier than Hitler? Joseph Stalin P...   277285.0\n",
      "1      His Waterbed Secrets - Life Sentence At 14?! J...  1548343.0\n",
      "2      The Mass Murderer Nobody Talks About: Joseph S...   678568.0\n",
      "3      The Woodworking Wacko - Psychopath Cameron Hoo...  2128550.0\n",
      "4      This Bloody Crime Saved Our Lives: The Dark Hi...   691498.0\n",
      "...                                                  ...        ...\n",
      "10102  The Tragic Case of Gregory Biggs | The Windshi...    46663.0\n",
      "10103                 The Bizarre Case of Peter Shellard    52338.0\n",
      "10104  The Serial Killer Who Filed His Teeth Down | T...    66105.0\n",
      "10105  The Watcher House | The Sinister Case of 657 B...    56965.0\n",
      "10106             Santa The Slayer | The Covina Massacre    29829.0\n",
      "\n",
      "[10107 rows x 2 columns]\n"
     ]
    }
   ],
   "source": [
    "# In this script, we'll import a CSV, extract the headers, and do some analytics\n",
    "\n",
    "#to import, we will use a Pandas data-frame. This is like data-frames in R. Pandas has a function called \"read_csv\"\n",
    "df = pd.read_csv(r'data/true_crime_channel_stats.csv')\n",
    "\n",
    "#you can uncomment this if you like, but it looks really nasty. EEk\n",
    "#print(df) \n",
    "\n",
    "#what if we just want the index, the title, and the views?\n",
    "df1 = pd.DataFrame(df, columns=['Title', 'Views'])\n",
    "print(df1)"
   ]
  },
  {
   "cell_type": "code",
   "execution_count": null,
   "id": "3b31d1ce",
   "metadata": {},
   "outputs": [],
   "source": []
  }
 ],
 "metadata": {
  "kernelspec": {
   "display_name": "Python 3 (ipykernel)",
   "language": "python",
   "name": "python3"
  },
  "language_info": {
   "codemirror_mode": {
    "name": "ipython",
    "version": 3
   },
   "file_extension": ".py",
   "mimetype": "text/x-python",
   "name": "python",
   "nbconvert_exporter": "python",
   "pygments_lexer": "ipython3",
   "version": "3.10.9"
  }
 },
 "nbformat": 4,
 "nbformat_minor": 5
}
