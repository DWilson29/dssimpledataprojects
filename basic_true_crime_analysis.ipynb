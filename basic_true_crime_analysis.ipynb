{
 "cells": [
  {
   "cell_type": "code",
   "execution_count": 3,
   "id": "46fc4143",
   "metadata": {},
   "outputs": [
    {
     "name": "stdout",
     "output_type": "stream",
     "text": [
      "MODULES LOADED\n"
     ]
    }
   ],
   "source": [
    "import numpy as np\n",
    "import pandas as pd\n",
    "\n",
    "print(\"MODULES LOADED\")"
   ]
  },
  {
   "cell_type": "code",
   "execution_count": 9,
   "id": "aa7cdfcf",
   "metadata": {},
   "outputs": [
    {
     "name": "stdout",
     "output_type": "stream",
     "text": [
      "                                                   Title      Views\n",
      "0      A Killer Deadlier than Hitler? Joseph Stalin P...   277285.0\n",
      "1      His Waterbed Secrets - Life Sentence At 14?! J...  1548343.0\n",
      "2      The Mass Murderer Nobody Talks About: Joseph S...   678568.0\n",
      "3      The Woodworking Wacko - Psychopath Cameron Hoo...  2128550.0\n",
      "4      This Bloody Crime Saved Our Lives: The Dark Hi...   691498.0\n",
      "...                                                  ...        ...\n",
      "10102  The Tragic Case of Gregory Biggs | The Windshi...    46663.0\n",
      "10103                 The Bizarre Case of Peter Shellard    52338.0\n",
      "10104  The Serial Killer Who Filed His Teeth Down | T...    66105.0\n",
      "10105  The Watcher House | The Sinister Case of 657 B...    56965.0\n",
      "10106             Santa The Slayer | The Covina Massacre    29829.0\n",
      "\n",
      "[10107 rows x 2 columns]\n"
     ]
    }
   ],
   "source": [
    "# In this script, we'll import a CSV, extract the headers, and do some analytics\n",
    "\n",
    "#to import, we will use a Pandas data-frame. This is like data-frames in R. Pandas has a function called \"read_csv\"\n",
    "df = pd.read_csv(r'data/true_crime_channel_stats.csv')\n",
    "\n",
    "#you can uncomment this if you like, but it looks really nasty. EEk\n",
    "#print(df) \n",
    "\n",
    "#what if we just want the index, the title, and the views?\n",
    "df1 = pd.DataFrame(df, columns=['Title', 'Views'])\n",
    "print(df1)"
   ]
  },
  {
   "cell_type": "code",
   "execution_count": 37,
   "id": "28939fb1",
   "metadata": {},
   "outputs": [
    {
     "data": {
      "text/plain": [
       "              3877\n",
       "The           3025\n",
       "of            2138\n",
       "Case          1391\n",
       "and           1294\n",
       "              ... \n",
       "Richneck         1\n",
       "Brudos           1\n",
       "Fabricates       1\n",
       "Ugly             1\n",
       "Boulevard        1\n",
       "Name: word, Length: 18573, dtype: int64"
      ]
     },
     "execution_count": 37,
     "metadata": {},
     "output_type": "execute_result"
    }
   ],
   "source": [
    "#What is the most common word in the titles?\n",
    "df2 = df1.assign(word = df1['Title'].str.split()).explode('word')\n",
    "df2['word'] = df2['word'].str.strip(',')\n",
    "df2['word'] = df2['word'].str.strip('?')\n",
    "df2['word'] = df2['word'].str.strip('|')\n",
    "df2['word'] = df2['word'].str.strip('.')\n",
    "df2['word'] = df2['word'].str.strip(' ')\n",
    "df2['word'] = df2['word'].str.strip('-')\n",
    "#print(df2)\n",
    "df2['word'].value_counts()"
   ]
  },
  {
   "cell_type": "code",
   "execution_count": null,
   "id": "bf950f43",
   "metadata": {},
   "outputs": [],
   "source": []
  },
  {
   "cell_type": "code",
   "execution_count": null,
   "id": "33a93bcb",
   "metadata": {},
   "outputs": [],
   "source": []
  }
 ],
 "metadata": {
  "kernelspec": {
   "display_name": "Python 3 (ipykernel)",
   "language": "python",
   "name": "python3"
  },
  "language_info": {
   "codemirror_mode": {
    "name": "ipython",
    "version": 3
   },
   "file_extension": ".py",
   "mimetype": "text/x-python",
   "name": "python",
   "nbconvert_exporter": "python",
   "pygments_lexer": "ipython3",
   "version": "3.10.9"
  }
 },
 "nbformat": 4,
 "nbformat_minor": 5
}
