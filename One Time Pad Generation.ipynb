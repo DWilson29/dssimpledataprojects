{
 "cells": [
  {
   "cell_type": "markdown",
   "id": "b65adccd",
   "metadata": {},
   "source": [
    "# One Time Pad Generation\n",
    "\n",
    "This Jupyter Notebook is meant to be an easy way to explore One Time Pads, as well as give me an introduction into writing pretty notebooks!\n",
    "\n",
    "## What is a One Time Pad?\n",
    "\n",
    "One Time Pads (OTPs) is an encryption technique that cannot be cracked, provided that the key strings are truly random and never reused. This is important for a variety of applications, but does not see much usage in modern tech infrastructure as getting the key safely to the other party is difficult when it can only be transmitted along Internet connections. Regardless, if two parties can communicate safely, OTPs provide solid security.\n",
    "\n",
    "## What do we need to generate them?\n",
    "\n",
    "We need a key. This key must be 1) As long or longer than our message 2) Truly random 3) Never reused and 4) Kept secret. 1) is easy to deal with. 2) is somewhat complicated. \"Truly Random\" numbers are not a strong suit of computers. Any OTP generator will have to reckon with this fact. Either, use a pseudo-random number for convenience or find a way to get a \"truly random\" number. 3) and 4) are also easy, and is considered a \"user error\".\n",
    "\n",
    "## How does it work?\n",
    "\n",
    "Encode the message into a numerical representation. Take your key, which has random numbers matching the range of our encoded values. Add the key to the message, each value in the key to each value in the message. Use the modulo function to ensure these values are within our range. Then, to decrypt, we simply take this cipher text, subtract the key, take the modulo and we have our solution. \n",
    "\n",
    "This is the basic version of OTP. \n",
    "\n",
    "1. Take the message and encode each value in whatever range we desire to have.\n",
    "2. Generate a key by generating random numbers within our range of encoding.\n",
    "3. Add the encoded message and key at each value, taking the modulo of each value to ensure it is within our encoding range.\n",
    "4. To decrypt, take the cipher text, encode it, subtract the key, and take the modulo of each value to find the original message.\n",
    "\n",
    "It becomes more difficult as we consider what kind of message we want to encrypt. Only letters? What about upper and lower case? Punctionation? Numbers? We likely desire to encrypt these more advanced messages.\n",
    "\n",
    "## How are we going to get around the pseudo-random issue?\n",
    "\n",
    "Get someone else to do it! Random.org lets us get any number of random integers (up to 10,000), lets us generate in any range and more. This is easy to use and quick. What if you don't have internet? Why don't you write down an array of random integers within you \n",
    "\n",
    "Let's get started!\n",
    "\n",
    "First, we need a message."
   ]
  },
  {
   "cell_type": "code",
   "execution_count": 1,
   "id": "efa5ed3d",
   "metadata": {},
   "outputs": [],
   "source": [
    "message = \"This is a secret UNICODE message\""
   ]
  },
  {
   "cell_type": "markdown",
   "id": "b5d259b9",
   "metadata": {},
   "source": [
    "We'll use the basic UNICODE character set, up to U+00FF. Thix will include most symbols we would expect to see in a message. First, let's generate a key."
   ]
  },
  {
   "cell_type": "code",
   "execution_count": 2,
   "id": "68a18182",
   "metadata": {},
   "outputs": [
    {
     "name": "stdout",
     "output_type": "stream",
     "text": [
      "218\n",
      "85\n",
      "70\n"
     ]
    }
   ],
   "source": [
    "import requests\n",
    "import random\n",
    "\n",
    "def getRandNumOnline():\n",
    "    source = \"https://www.random.org/integers/?num=1&min=1&max=255&col=5&base=10&format=plain&rnd=new\"\n",
    "    num = requests.get(source)\n",
    "    return int(num.text)\n",
    "\n",
    "#Make sure we don't request too much from them.\n",
    "def getPseudoRandNumber():\n",
    "    return (int) (random.randrange(0, 255));\n",
    "\n",
    "def getRandNumber():\n",
    "    return getPseudoRandNumber()\n",
    "\n",
    "print(getRandNumOnline())\n",
    "print(getRandNumOnline())\n",
    "print(getRandNumOnline())"
   ]
  },
  {
   "cell_type": "markdown",
   "id": "1daafb55",
   "metadata": {},
   "source": [
    "Now let's convert this to a cipher. Let's iterate through each part of the message, adding the key, and moduloing it. To get the value of the message in unicode, we use the \"ord()\" function."
   ]
  },
  {
   "cell_type": "code",
   "execution_count": 3,
   "id": "4d52ab1e",
   "metadata": {},
   "outputs": [
    {
     "name": "stdout",
     "output_type": "stream",
     "text": [
      "[52, 182, 23, 123, 168, 147, 150, 79, 162, 226, 90, 206, 115, 147, 227, 248, 209, 78, 67, 125, 69, 94, 19, 139, 187, 36, 10, 250, 173, 162, 243, 253]\n",
      "[136, 31, 128, 238, 200, 252, 10, 111, 4, 3, 205, 52, 214, 6, 73, 109, 241, 163, 145, 198, 136, 173, 87, 208, 219, 145, 111, 110, 33, 4, 91, 99]\n"
     ]
    }
   ],
   "source": [
    "cipher = []\n",
    "key = []\n",
    "random.seed(getRandNumOnline())\n",
    "for i in range(len(message)):\n",
    "    key.append(getRandNumber())\n",
    "    cipher.append((ord(message[i]) + key[i]) % 255)\n",
    "print(key)\n",
    "print(cipher)"
   ]
  },
  {
   "cell_type": "markdown",
   "id": "4b4a3e9e",
   "metadata": {},
   "source": [
    "We have our cipher now. To turn this into text, we need to go through each value and use the \"chr()\" function."
   ]
  },
  {
   "cell_type": "code",
   "execution_count": 4,
   "id": "26eea9db",
   "metadata": {},
   "outputs": [
    {
     "name": "stdout",
     "output_type": "stream",
     "text": [
      "\u001fîÈü\n",
      "o\u0004\u0003Í4Ö\u0006Imñ£Æ­WÐÛon!\u0004[c\n"
     ]
    }
   ],
   "source": [
    "cipherText = \"\"\n",
    "for j in cipher:\n",
    "    cipherText += chr(j)\n",
    "print(cipherText)"
   ]
  },
  {
   "cell_type": "markdown",
   "id": "bba59ae6",
   "metadata": {},
   "source": [
    "Okay that looks sufficiently like gibberish. Let's see if we can decode it."
   ]
  },
  {
   "cell_type": "code",
   "execution_count": 5,
   "id": "b7f4f1c0",
   "metadata": {},
   "outputs": [
    {
     "name": "stdout",
     "output_type": "stream",
     "text": [
      "[84, 104, 105, 115, 32, 105, 115, 32, 97, 32, 115, 101, 99, 114, 101, 116, 32, 85, 78, 73, 67, 79, 68, 69, 32, 109, 101, 115, 115, 97, 103, 101]\n",
      "This is a secret UNICODE message\n"
     ]
    }
   ],
   "source": [
    "plain = []\n",
    "\n",
    "for i in range(len(cipher)):\n",
    "    plain.append((ord(cipherText[i]) - key[i]) % 255)\n",
    "print(plain)\n",
    "\n",
    "plaintext = \"\"\n",
    "for j in plain:\n",
    "    plaintext += chr(j)\n",
    "\n",
    "print(plaintext)"
   ]
  },
  {
   "cell_type": "code",
   "execution_count": null,
   "id": "4fa9fa2d",
   "metadata": {},
   "outputs": [],
   "source": []
  }
 ],
 "metadata": {
  "kernelspec": {
   "display_name": "Python 3 (ipykernel)",
   "language": "python",
   "name": "python3"
  },
  "language_info": {
   "codemirror_mode": {
    "name": "ipython",
    "version": 3
   },
   "file_extension": ".py",
   "mimetype": "text/x-python",
   "name": "python",
   "nbconvert_exporter": "python",
   "pygments_lexer": "ipython3",
   "version": "3.10.9"
  }
 },
 "nbformat": 4,
 "nbformat_minor": 5
}
